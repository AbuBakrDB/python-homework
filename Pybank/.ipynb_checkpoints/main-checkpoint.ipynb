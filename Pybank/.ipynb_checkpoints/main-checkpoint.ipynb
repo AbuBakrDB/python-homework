{
 "cells": [
  {
   "cell_type": "code",
   "execution_count": 29,
   "id": "a09661f1-91f8-476b-94c8-46d6f5ffb0b6",
   "metadata": {
    "tags": []
   },
   "outputs": [],
   "source": [
    "from pathlib import Path"
   ]
  },
  {
   "cell_type": "code",
   "execution_count": 30,
   "id": "f64c9061-6522-4275-b675-acc01314ed17",
   "metadata": {
    "tags": []
   },
   "outputs": [],
   "source": [
    "import csv"
   ]
  },
  {
   "cell_type": "code",
   "execution_count": 31,
   "id": "a58d4e02-3a6b-48e9-87d8-13a7d4279b3a",
   "metadata": {
    "tags": []
   },
   "outputs": [],
   "source": [
    "# Specify the path to the CSV file\n",
    "file_path = \"budget_data.csv\""
   ]
  },
  {
   "cell_type": "code",
   "execution_count": 32,
   "id": "493a3125-984a-420f-bf34-bd460e9e1160",
   "metadata": {
    "tags": []
   },
   "outputs": [],
   "source": [
    "# Initialize variables\n",
    "total_months = 0\n",
    "net_total = 0\n",
    "previous_profit_loss = 0\n",
    "monthly_changes = []\n",
    "dates = []"
   ]
  },
  {
   "cell_type": "code",
   "execution_count": 33,
   "id": "93fc8b99-dbbb-42aa-8672-1201e76f0f38",
   "metadata": {
    "tags": []
   },
   "outputs": [],
   "source": [
    "# Read the CSV file\n",
    "with open(file_path, newline=\"\") as csvfile:\n",
    "    csvreader = csv.reader(csvfile, delimiter=\",\")\n",
    "\n",
    "    # Skip the header\n",
    "    header = next(csvreader)\n",
    "\n",
    "    # Iterate through rows in the CSV file\n",
    "    for row in csvreader:\n",
    "        # Update total months\n",
    "        total_months += 1\n",
    "\n",
    "        # Update net total\n",
    "        net_total += int(row[1])\n",
    "\n",
    "        # Calculate the change in profit/loss\n",
    "        change = int(row[1]) - previous_profit_loss\n",
    "        if total_months > 1:\n",
    "            monthly_changes.append(change)\n",
    "            dates.append(row[0])\n",
    "\n",
    "        # Update previous profit/loss for the next iteration\n",
    "        previous_profit_loss = int(row[1])"
   ]
  },
  {
   "cell_type": "code",
   "execution_count": 34,
   "id": "33ea636d-90de-40e4-b139-96ff3b05104c",
   "metadata": {
    "tags": []
   },
   "outputs": [],
   "source": [
    "# Calculate the average change\n",
    "average_change = round(sum(monthly_changes) / (total_months - 1), 2)"
   ]
  },
  {
   "cell_type": "code",
   "execution_count": 35,
   "id": "e452ad9f-a4e9-4c0b-a0f4-3f96a3e8b5ec",
   "metadata": {
    "tags": []
   },
   "outputs": [],
   "source": [
    "# Find the greatest increase and decrease\n",
    "greatest_increase = max(monthly_changes)\n",
    "greatest_increase_index = monthly_changes.index(greatest_increase)\n",
    "greatest_increase_date = dates[greatest_increase_index]\n",
    "\n",
    "greatest_decrease = min(monthly_changes)\n",
    "greatest_decrease_index = monthly_changes.index(greatest_decrease)\n",
    "greatest_decrease_date = dates[greatest_decrease_index]"
   ]
  },
  {
   "cell_type": "code",
   "execution_count": 36,
   "id": "4f7aa7fa-20dd-460a-aaa4-65e5e8351232",
   "metadata": {
    "tags": []
   },
   "outputs": [
    {
     "name": "stdout",
     "output_type": "stream",
     "text": [
      "Financial Analysis\n",
      "----------------------------\n",
      "Total Months: 86\n",
      "Total: $38382578\n",
      "Average Change: $-2315.12\n",
      "Greatest Increase in Profits: Feb-2012 ($1926159)\n",
      "Greatest Decrease in Profits: Sep-2013 ($-2196167)\n"
     ]
    }
   ],
   "source": [
    "# Print the data to the terminal\n",
    "print(\"Financial Analysis\")\n",
    "print(\"----------------------------\")\n",
    "print(f\"Total Months: {total_months}\")\n",
    "print(f\"Total: ${net_total}\")\n",
    "print(f\"Average Change: ${average_change}\")\n",
    "print(f\"Greatest Increase in Profits: {greatest_increase_date} (${greatest_increase})\")\n",
    "print(f\"Greatest Decrease in Profits: {greatest_decrease_date} (${greatest_decrease})\")"
   ]
  },
  {
   "cell_type": "code",
   "execution_count": 37,
   "id": "54762ad6-4a49-432c-8724-342940b0e14b",
   "metadata": {
    "tags": []
   },
   "outputs": [
    {
     "name": "stdout",
     "output_type": "stream",
     "text": [
      "Results exported to financial_analysis.txt\n"
     ]
    }
   ],
   "source": [
    "# Export the results to a text file\n",
    "output_path = \"financial_analysis.txt\"\n",
    "with open(output_path, \"w\") as output_file:\n",
    "    output_file.write(\"Financial Analysis\\n\")\n",
    "    output_file.write(\"----------------------------\\n\")\n",
    "    output_file.write(f\"Total Months: {total_months}\\n\")\n",
    "    output_file.write(f\"Total: ${net_total}\\n\")\n",
    "    output_file.write(f\"Average Change: ${average_change}\\n\")\n",
    "    output_file.write(f\"Greatest Increase in Profits: {greatest_increase_date} (${greatest_increase})\\n\")\n",
    "    output_file.write(f\"Greatest Decrease in Profits: {greatest_decrease_date} (${greatest_decrease})\\n\")\n",
    "\n",
    "print(f\"Results exported to {output_path}\")"
   ]
  },
  {
   "cell_type": "code",
   "execution_count": null,
   "id": "02fd1d31-77b7-4f60-aa33-75ca45501b44",
   "metadata": {},
   "outputs": [],
   "source": []
  },
  {
   "cell_type": "code",
   "execution_count": null,
   "id": "c9dd7cfd-ed9a-4b14-a268-bb9658eef741",
   "metadata": {},
   "outputs": [],
   "source": []
  }
 ],
 "metadata": {
  "kernelspec": {
   "display_name": "Python 3 (ipykernel)",
   "language": "python",
   "name": "python3"
  },
  "language_info": {
   "codemirror_mode": {
    "name": "ipython",
    "version": 3
   },
   "file_extension": ".py",
   "mimetype": "text/x-python",
   "name": "python",
   "nbconvert_exporter": "python",
   "pygments_lexer": "ipython3",
   "version": "3.11.5"
  }
 },
 "nbformat": 4,
 "nbformat_minor": 5
}
